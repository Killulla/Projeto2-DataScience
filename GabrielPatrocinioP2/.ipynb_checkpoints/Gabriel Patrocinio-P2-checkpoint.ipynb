{
 "cells": [
  {
   "cell_type": "code",
   "execution_count": null,
   "metadata": {
    "collapsed": true
   },
   "outputs": [],
   "source": [
    "%matplotlib inline\n",
    "\n",
    "import os\n",
    "import matplotlib.pyplot as plt\n",
    "import pandas as pd\n",
    "from scipy.stats import expon\n",
    "from numpy import linspace\n",
    "import numpy as np\n",
    "import pylab as pl"
   ]
  },
  {
   "cell_type": "code",
   "execution_count": null,
   "metadata": {
    "collapsed": true
   },
   "outputs": [],
   "source": [
    "dados = pd.read_table('OnlineNewsPopularity.csv', sep=',')"
   ]
  },
  {
   "cell_type": "code",
   "execution_count": null,
   "metadata": {
    "collapsed": false
   },
   "outputs": [],
   "source": [
    "dados.filtrados=dados.loc[:, (\" n_tokens_content\", \" shares\")]\n",
    "dados.filtrados.columns=[\"num_palavras_noticia\",\"compartilhamentos\"]\n",
    "dados.filtrados.describe()"
   ]
  },
  {
   "cell_type": "markdown",
   "metadata": {},
   "source": [
    "    Para as futuras análises, será importante perceber que existem alguns dados extremamente fora do padrão, como podemos perceber nos compartilhamentos - 75% das notícias analisadas possuem menos de 2700 compartilhamentos, entretanto há alguns poucos casos extremos que levam o desvio padrao para mais de 10mil, desta forma, para que isso não afete tanto nossa análise, filtraremos estes dados em 3 vezes o valor da média, desta forma excluímos os dados extremos sem prejudicar a interpretação."
   ]
  },
  {
   "cell_type": "code",
   "execution_count": null,
   "metadata": {
    "collapsed": true
   },
   "outputs": [],
   "source": [
    "dados.filtrados = dados.filtrados[(dados.filtrados.num_palavras_noticia!=dados.filtrados.num_palavras_noticia.min())& (dados.filtrados.compartilhamentos!=dados.filtrados.compartilhamentos.min())& (dados.filtrados.compartilhamentos<10000)]"
   ]
  },
  {
   "cell_type": "code",
   "execution_count": null,
   "metadata": {
    "collapsed": false
   },
   "outputs": [],
   "source": [
    "faixas_compartilhamentos=linspace(0,8000,80)\n",
    "faixas_palavras=linspace(0,8000,80)\n",
    "faixas_palavras2=linspace(0,4000,40)"
   ]
  },
  {
   "cell_type": "code",
   "execution_count": null,
   "metadata": {
    "collapsed": false
   },
   "outputs": [],
   "source": [
    "dados.filtrados.describe()"
   ]
  },
  {
   "cell_type": "code",
   "execution_count": null,
   "metadata": {
    "collapsed": false
   },
   "outputs": [],
   "source": [
    "from scipy import stats\n",
    "shape, loc, scale = stats.lognorm.fit(dados.filtrados.num_palavras_noticia, floc=0) # Fit a curve to the variates\n",
    "mu = np.log(scale)\n",
    "Media = dados.filtrados.num_palavras_noticia.mean()\n",
    "desvio = dados.filtrados.num_palavras_noticia.std()\n",
    "x = np.linspace(dados.filtrados.num_palavras_noticia.min(), 4000, num=400)\n",
    "plt.plot(x, stats.lognorm.pdf(x, shape, loc=0, scale=scale), 'b', linewidth=3)\n",
    "plt.legend(['Log normal teórico'])"
   ]
  },
  {
   "cell_type": "code",
   "execution_count": null,
   "metadata": {
    "collapsed": false
   },
   "outputs": [],
   "source": [
    "a=pd.DataFrame.plot(kind='hist', data=dados.filtrados.compartilhamentos,bins= faixas_compartilhamentos, color=('blue'),normed=True)"
   ]
  },
  {
   "cell_type": "markdown",
   "metadata": {},
   "source": [
    "    A primeira variável a ser analisada é a quantidade de compartilhamentos da notícia. A distribuição que mais se adequa ao comportamento desta variável é a Log Normal, como pode ser visto acima."
   ]
  },
  {
   "cell_type": "code",
   "execution_count": null,
   "metadata": {
    "collapsed": false
   },
   "outputs": [],
   "source": [
    "pd.DataFrame.plot(kind='hist', data=dados.filtrados.num_palavras_noticia,bins= faixas_palavras2, color=('red'),normed=True)"
   ]
  },
  {
   "cell_type": "markdown",
   "metadata": {},
   "source": [
    "    A outra variável a ser analisada é o número de palavras contido na notícia. A distribuição que mais se adequa ao comportamento desta variável também é a Log Normal."
   ]
  },
  {
   "cell_type": "code",
   "execution_count": null,
   "metadata": {
    "collapsed": false
   },
   "outputs": [],
   "source": [
    "#---------------PLOT HISTOGRAMA--------------\n",
    "pd.DataFrame.plot(kind='hist', data=dados.filtrados.num_palavras_noticia,bins= faixas_palavras2, color=('red'),normed=True,legend=False,figsize=(7,6))\n",
    "#---------------PLOT LOG NORMAL--------------\n",
    "shape, loc, scale = stats.lognorm.fit(dados.filtrados.num_palavras_noticia, floc=0)\n",
    "Media = dados.filtrados.num_palavras_noticia.mean()\n",
    "desvio = dados.filtrados.num_palavras_noticia.std()\n",
    "x = np.linspace(dados.filtrados.num_palavras_noticia.min(), 4000, num=400)\n",
    "plt.plot(x, stats.lognorm.pdf(x, shape, loc=0, scale=scale), 'b', linewidth=3)\n",
    "#--------------PLOT GAMMA--------------------\n",
    "k_gamma = 2.1\n",
    "theta_gamma = dados.filtrados.num_palavras_noticia.mean()/k_gamma\n",
    "gamma = stats.gamma.pdf(x, scale=theta_gamma, loc=0, a=k_gamma)\n",
    "plt.plot(x, gamma, '-', color='cyan', label=\"Gamma\",lw=3)\n",
    "plt.legend(['Log Normal','Gamma','Real'],loc='center left', bbox_to_anchor=(1, 0.5))"
   ]
  },
  {
   "cell_type": "code",
   "execution_count": null,
   "metadata": {
    "collapsed": false
   },
   "outputs": [],
   "source": [
    "#------------------ PLOT HISTOGRAMA-------------------\n",
    "pd.DataFrame.plot(kind='hist', data=dados.filtrados.compartilhamentos,bins= faixas_palavras, color=('g'),normed=True,legend=False,figsize=(7,6))\n",
    "#------------------ PLOT LOG NORMAL-------------------\n",
    "shape, loc, scale = stats.lognorm.fit(dados.filtrados.compartilhamentos, floc=0)\n",
    "Media = dados.filtrados.compartilhamentos.mean()\n",
    "desvio = dados.filtrados.compartilhamentos.std()\n",
    "x = np.linspace(dados.filtrados.compartilhamentos.min(), 8000, num=400)\n",
    "plt.plot(x, stats.lognorm.pdf(x, shape, loc, scale=scale), 'r', linewidth=3)\n",
    "ax = plt.gca()\n",
    "#------------------- PLOT GAMMA--------------------------\n",
    "gamma_a,gamma_loc,gamma_scale= stats.gamma.fit(dados.filtrados.compartilhamentos)\n",
    "k_gamma = 2.2\n",
    "theta_gamma = dados.filtrados.compartilhamentos.mean()/k_gamma\n",
    "gamma = stats.gamma.pdf(x, a=gamma_a,scale=gamma_scale, loc=gamma_loc)\n",
    "plt.plot(x, gamma, '-', color='cyan', label=\"Gamma\",lw=3)\n",
    "plt.legend(['Log Normal','Gamma','Real'],loc='center left', bbox_to_anchor=(1, 0.5))"
   ]
  },
  {
   "cell_type": "markdown",
   "metadata": {},
   "source": [
    "# TESTE DE ADERÊNCIA"
   ]
  },
  {
   "cell_type": "code",
   "execution_count": null,
   "metadata": {
    "collapsed": false
   },
   "outputs": [],
   "source": [
    "dfc=dados.filtrados.compartilhamentos"
   ]
  },
  {
   "cell_type": "code",
   "execution_count": null,
   "metadata": {
    "collapsed": true
   },
   "outputs": [],
   "source": [
    "fra = [] # frequencia relativa acumulada\n",
    "for i in range(len(dfc)):\n",
    "    acc = (i - 0.5) / len(dfc)\n",
    "    if acc < 0:\n",
    "        acc = 0.0\n",
    "    fra.append(acc)"
   ]
  },
  {
   "cell_type": "code",
   "execution_count": null,
   "metadata": {
    "collapsed": false
   },
   "outputs": [],
   "source": [
    "shape, loc, scale = stats.lognorm.fit(dfc, floc=0)\n",
    "q_lnorm = stats.lognorm.ppf(fra,s=shape,loc=loc, scale=scale)\n",
    "q_gamma = stats.gamma.ppf(fra, scale=gamma_scale, loc=gamma_loc, a=gamma_a)"
   ]
  },
  {
   "cell_type": "code",
   "execution_count": null,
   "metadata": {
    "collapsed": false
   },
   "outputs": [],
   "source": [
    "ldfc=sorted(dfc.values.tolist())"
   ]
  },
  {
   "cell_type": "code",
   "execution_count": null,
   "metadata": {
    "collapsed": false
   },
   "outputs": [],
   "source": [
    "fig = plt.figure(figsize=(12,8))\n",
    "\n",
    "plt.title(\"Q-Q plot: Dados x Log Normal x Gamma\")\n",
    "\n",
    "lnorm, = plt.plot(ldfc, q_lnorm, 'o', color=\"red\", label=\"Log Normal\")\n",
    "gamma_plot, = plt.plot(ldfc, q_gamma, 'o', color=\"green\", label = \"Gamma\")\n",
    "\n",
    "plt.legend(handles=[lnorm, gamma_plot])\n",
    "plt.plot((min(ldfc), max(ldfc)), (min(ldfc), max(ldfc)), '-')\n",
    "\n",
    "for i in range(len(ldfc)):\n",
    "    plt.plot((ldfc[i], ldfc[i]), (q_lnorm[i], ldfc[i]), '-', color='red', alpha=0.3  )\n",
    "    plt.plot((ldfc[i], ldfc[i]), (q_gamma[i], ldfc[i]), '-', color='green', alpha=0.3  )\n"
   ]
  },
  {
   "cell_type": "code",
   "execution_count": null,
   "metadata": {
    "collapsed": false
   },
   "outputs": [],
   "source": [
    "def erro_quadratico(fra_dados, quantil_teorico):\n",
    "    \"\"\" Calcula o quadrado das diferenças entre duas listas de mesmo tamanho\"\"\"\n",
    "    eq = 0\n",
    "    for i in range(len(fra_dados)):\n",
    "        dif_quad = (fra_dados[i] - quantil_teorico[i])**2\n",
    "        eq = eq + dif_quad\n",
    "    return eq\n",
    "\n",
    "erro_quadratico_lnorm = erro_quadratico(ldfc, q_lnorm)\n",
    "erro_quadratico_gamma = erro_quadratico(ldfc, q_gamma)\n",
    "\n",
    "print(\"Erro quadratico da exponencial :\", erro_quadratico_lnorm)\n",
    "print(\"Erro quadratico da gamma :\", erro_quadratico_gamma)"
   ]
  },
  {
   "cell_type": "code",
   "execution_count": null,
   "metadata": {
    "collapsed": false
   },
   "outputs": [],
   "source": [
    "eqm_lnorm = erro_quadratico_lnorm/len(ldfc)\n",
    "eqm_gamma = erro_quadratico_gamma/len(ldfc)\n",
    "\n",
    "print(\"Erro quadratico médio da exponencial :\", eqm_lnorm)\n",
    "print(\"Erro quadratico médio da gamma :\", eqm_gamma)"
   ]
  },
  {
   "cell_type": "code",
   "execution_count": null,
   "metadata": {
    "collapsed": false
   },
   "outputs": [],
   "source": [
    "def soma_diferencas(fra_dados, quantil_teorico):\n",
    "    \"\"\" Calcula o quadrado das diferenças entre duas listas de mesmo tamanho\"\"\"\n",
    "    eq = 0\n",
    "    for i in range(len(fra_dados)):\n",
    "        dif_quad = abs(fra_dados[i] - quantil_teorico[i])\n",
    "        eq = eq + dif_quad\n",
    "    return eq\n",
    "\n",
    "soma_diferenças_lnorm = soma_diferencas(ldfc, q_lnorm)\n",
    "soma_diferenças_gamma = soma_diferencas(ldfc, q_gamma)\n",
    "\n",
    "print(\"Soma de diferenças da exponencial :\", soma_diferenças_lnorm)\n",
    "print(\"Soma de diferenças da gamma :\", soma_diferenças_gamma)"
   ]
  },
  {
   "cell_type": "code",
   "execution_count": null,
   "metadata": {
    "collapsed": true
   },
   "outputs": [],
   "source": []
  }
 ],
 "metadata": {
  "kernelspec": {
   "display_name": "Python 3",
   "language": "python",
   "name": "python3"
  },
  "language_info": {
   "codemirror_mode": {
    "name": "ipython",
    "version": 3
   },
   "file_extension": ".py",
   "mimetype": "text/x-python",
   "name": "python",
   "nbconvert_exporter": "python",
   "pygments_lexer": "ipython3",
   "version": "3.4.3"
  }
 },
 "nbformat": 4,
 "nbformat_minor": 0
}
